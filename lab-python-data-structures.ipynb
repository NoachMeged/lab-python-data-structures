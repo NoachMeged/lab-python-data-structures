{
 "cells": [
  {
   "cell_type": "markdown",
   "metadata": {
    "tags": []
   },
   "source": [
    "# Lab | Data Structures "
   ]
  },
  {
   "cell_type": "markdown",
   "metadata": {},
   "source": [
    "## Exercise: Managing Customer Orders\n",
    "\n",
    "As part of a business venture, you are starting an online store that sells various products. To ensure smooth operations, you need to develop a program that manages customer orders and inventory.\n",
    "\n",
    "Follow the steps below to complete the exercise:\n",
    "\n",
    "1. Define a list called `products` that contains the following items: \"t-shirt\", \"mug\", \"hat\", \"book\", \"keychain\".\n",
    "\n",
    "2. Create an empty dictionary called `inventory`.\n",
    "\n",
    "3. Ask the user to input the quantity of each product available in the inventory. Use the product names from the `products` list as keys in the `inventory` dictionary and assign the respective quantities as values.\n",
    "\n",
    "4. Create an empty set called `customer_orders`.\n",
    "\n",
    "5. Ask the user to input the name of three products that a customer wants to order (from those in the products list, meaning three products out of \"t-shirt\", \"mug\", \"hat\", \"book\" or \"keychain\". Add each product name to the `customer_orders` set.\n",
    "\n",
    "6. Print the products in the `customer_orders` set.\n",
    "\n",
    "7. Calculate the following order statistics:\n",
    "   - Total Products Ordered: The total number of products in the `customer_orders` set.\n",
    "   - Percentage of Products Ordered: The percentage of products ordered compared to the total available products.\n",
    "   \n",
    "   Store these statistics in a tuple called `order_status`.\n",
    "\n",
    "8. Print the order statistics using the following format:\n",
    "   ```\n",
    "   Order Statistics:\n",
    "   Total Products Ordered: <total_products_ordered>\n",
    "   Percentage of Products Ordered: <percentage_ordered>% \n",
    "   ```\n",
    "\n",
    "9. Update the inventory by subtracting 1 from the quantity of each product. Modify the `inventory` dictionary accordingly.\n",
    "\n",
    "10. Print the updated inventory, displaying the quantity of each product on separate lines.\n",
    "\n",
    "Solve the exercise by implementing the steps using the Python concepts of lists, dictionaries, sets, and basic input/output operations. "
   ]
  },
  {
   "cell_type": "code",
   "execution_count": null,
   "metadata": {},
   "outputs": [],
   "source": [
    "# 1. Define a list called `products` that contains the following items: \"t-shirt\", \"mug\", \"hat\", \"book\", \"keychain\".\n",
    "\n",
    "product = ['t-shirt', 'mug','hat', 'book','keychain']"
   ]
  },
  {
   "cell_type": "code",
   "execution_count": null,
   "metadata": {},
   "outputs": [],
   "source": [
    "# 2. Create an empty dictionary called `inventory`.\n",
    "inventory = {}"
   ]
  },
  {
   "cell_type": "code",
   "execution_count": 9,
   "metadata": {},
   "outputs": [
    {
     "name": "stdout",
     "output_type": "stream",
     "text": [
      "Enter the quantity of t-shirt: 5\n",
      "Enter the quantity of mug: 5\n",
      "Enter the quantity of hat: 5\n",
      "Enter the quantity of book: 5\n",
      "Enter the quantity of keychain: 5\n",
      "{'t-shirt': 5, 'mug': 5, 'hat': 5, 'book': 5, 'keychain': 5}\n"
     ]
    }
   ],
   "source": [
    "# 3. Ask the user to input the quantity of each product available in the inventory.\n",
    "# Use the product names from the `products` list as keys in the `inventory` dictionary \n",
    "# and assign the respective quantities as values.\n",
    "\n",
    "product = ['t-shirt', 'mug','hat', 'book','keychain']\n",
    "inventory = {\n",
    "    \"t-shirt\": 10,\n",
    "    \"mug\": 15,\n",
    "    \"hat\": 8,\n",
    "    \"book\": 20,\n",
    "    \"keychain\": 5\n",
    "}\n",
    "\n",
    "for product in product:\n",
    "    quantity = int(input(f\"Enter the quantity of {product}: \"))\n",
    "    inventory[product] = quantity\n",
    "\n",
    "print(inventory)"
   ]
  },
  {
   "cell_type": "code",
   "execution_count": null,
   "metadata": {},
   "outputs": [],
   "source": [
    "# 4.Create an empty set called `customer_orders.\n",
    "customer_orders = set()"
   ]
  },
  {
   "cell_type": "code",
   "execution_count": null,
   "metadata": {},
   "outputs": [],
   "source": [
    "# 5. Ask the user to input the name of three products that a customer wants to order \n",
    "# (from those in the products list, meaning three products out of \"t-shirt\", \"mug\", \"hat\", \"book\" or \"keychain\". \n",
    "# Add each product name to the `customer_orders` set.\n",
    "\n",
    "products = [\"t-shirt\", \"mug\", \"hat\", \"book\", \"keychain\"]\n",
    "customer_orders = set()\n",
    "\n",
    "while len(customer_orders) < 3:\n",
    "    order = input(\"Enter the name of a product to order (t-shirt, mug, hat, book, or keychain): \").strip()\n",
    "    if order in products:\n",
    "        customer_orders.add(order)\n",
    "    else:\n",
    "        print(\"That product is not available. Please choose from the given list.\")\n",
    "\n",
    "# 6. Print the products in the `customer_orders` set.\n",
    "\n",
    "print(f\"Customer orders: {customer_orders}\")"
   ]
  },
  {
   "cell_type": "code",
   "execution_count": 7,
   "metadata": {},
   "outputs": [
    {
     "name": "stdout",
     "output_type": "stream",
     "text": [
      "Write 'done' when you're finished ordering.\n",
      "Enter the name of a product to order (t-shirt, mug, hat, book, or keychain): done\n",
      "Order Statistics:\n",
      "Total Products Ordered: 0\n",
      "Percentage of Products Ordered: 0.00%\n"
     ]
    }
   ],
   "source": [
    "# 7. Calculate the following order statistics:\n",
    "#   - Total Products Ordered: The total number of products in the `customer_orders` set.\n",
    "#   - Percentage of Products Ordered: The percentage of products ordered compared to the total available products.\n",
    "\n",
    "\n",
    "products = [\"t-shirt\", \"mug\", \"hat\", \"book\", \"keychain\"] \n",
    "customer_orders = set() \n",
    "\n",
    "print(\"Write 'done' when you're finished ordering.\")\n",
    "\n",
    "while len(customer_orders) <= 4:\n",
    "    order = input(\"Enter the name of a product to order (t-shirt, mug, hat, book, or keychain): \").strip().lower()\n",
    "    \n",
    "    if order == \"done\":\n",
    "        break\n",
    "\n",
    "    if order in products:\n",
    "        customer_orders.add(order)\n",
    "        print(f\"Added {order}. You have ordered {len(customer_orders)} product(s).\")\n",
    "    else:\n",
    "        print(\"That product is not available. Please choose from the given list.\")\n",
    "total_ordered = len(customer_orders)\n",
    "\n",
    "total_products = len(products)\n",
    "percentage_ordered = (total_ordered / total_products) * 100\n",
    "\n",
    "order_status = (total_ordered, percentage_ordered)\n",
    "\n",
    "\n",
    "# Store these statistics in a tuple called `order_status`.\n",
    "# 8. Print the order statistics using the following format:\n",
    "print(\"Order Statistics:\")\n",
    "print(f\"Total Products Ordered: {order_status[0]}\")\n",
    "print(f\"Percentage of Products Ordered: {order_status[1]:.2f}%\")"
   ]
  },
  {
   "cell_type": "code",
   "execution_count": 6,
   "metadata": {},
   "outputs": [
    {
     "name": "stdout",
     "output_type": "stream",
     "text": [
      "Write 'done' when you're finished ordering.\n",
      "Enter the name of a product to order (t-shirt, mug, hat, book, or keychain): keychain\n",
      "Added keychain. You have ordered 1 product(s).\n",
      "Enter the name of a product to order (t-shirt, mug, hat, book, or keychain): done\n",
      "\n",
      "Updated Inventory:\n",
      "t-shirt: 10\n",
      "mug: 15\n",
      "hat: 8\n",
      "book: 20\n",
      "keychain: 4\n",
      "Total Products Ordered: 1\n",
      "Percentage of Products Ordered: 20.00%\n"
     ]
    }
   ],
   "source": [
    "# 9. Update the inventory by subtracting 1 from the quantity of each product. \n",
    "# Modify the `inventory` dictionary accordingly.\n",
    "\n",
    "\n",
    "products = [\"t-shirt\", \"mug\", \"hat\", \"book\", \"keychain\"] \n",
    "inventory = {\n",
    "    \"t-shirt\": 10,\n",
    "    \"mug\": 15,\n",
    "    \"hat\": 8,\n",
    "    \"book\": 20,\n",
    "    \"keychain\": 5\n",
    "}\n",
    "\n",
    "customer_orders = set()\n",
    "\n",
    "print(\"Write 'done' when you're finished ordering.\")\n",
    "\n",
    "while len(customer_orders) <= 4:\n",
    "    order = input(\"Enter the name of a product to order (t-shirt, mug, hat, book, or keychain): \").strip().lower()\n",
    "    \n",
    "    if order == \"done\":\n",
    "        break\n",
    "\n",
    "    if order in products:\n",
    "        customer_orders.add(order)\n",
    "        print(f\"Added {order}. You have ordered {len(customer_orders)} product(s).\")\n",
    "    else:\n",
    "        print(\"That product is not available. Please choose from the given list.\")\n",
    "\n",
    "for product in customer_orders:\n",
    "    if inventory[product] > 0:\n",
    "        inventory[product] -= 1\n",
    "\n",
    "# 10. Print the updated inventory, displaying the quantity of each product on separate lines.\n",
    "print(\"\\nUpdated Inventory:\")\n",
    "for product, quantity in inventory.items():\n",
    "    print(f\"{product}: {quantity}\")\n",
    "\n",
    "total_ordered = len(customer_orders)\n",
    "total_products = len(products)\n",
    "percentage_ordered = (total_ordered / total_products) * 100\n",
    "\n",
    "order_status = (total_ordered, percentage_ordered)\n",
    "\n",
    "print(f\"Total Products Ordered: {order_status[0]}\")\n",
    "print(f\"Percentage of Products Ordered: {order_status[1]:.2f}%\")"
   ]
  },
  {
   "cell_type": "code",
   "execution_count": null,
   "metadata": {},
   "outputs": [],
   "source": []
  }
 ],
 "metadata": {
  "kernelspec": {
   "display_name": "Python 3 (ipykernel)",
   "language": "python",
   "name": "python3"
  },
  "language_info": {
   "codemirror_mode": {
    "name": "ipython",
    "version": 3
   },
   "file_extension": ".py",
   "mimetype": "text/x-python",
   "name": "python",
   "nbconvert_exporter": "python",
   "pygments_lexer": "ipython3",
   "version": "3.11.5"
  }
 },
 "nbformat": 4,
 "nbformat_minor": 4
}
